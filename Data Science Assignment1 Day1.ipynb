{
 "cells": [
  {
   "cell_type": "markdown",
   "metadata": {},
   "source": [
    "# Data Scienece Assignment Day 1 - Nov 06, 2020\n"
   ]
  },
  {
   "cell_type": "code",
   "execution_count": 1,
   "metadata": {},
   "outputs": [],
   "source": [
    "#Question 1\n",
    "#Given the following jumbled word, OBANWRI guess the correct English word.\n",
    "\n",
    "#A. RANIBOW\n",
    "#B. RAINBOW\n",
    "#C. BOWRANI\n",
    "#D. ROBWANI"
   ]
  },
  {
   "cell_type": "code",
   "execution_count": 35,
   "metadata": {},
   "outputs": [],
   "source": [
    "#ANSWER: RAINBOW"
   ]
  },
  {
   "cell_type": "code",
   "execution_count": 31,
   "metadata": {},
   "outputs": [],
   "source": [
    "#Question 2\n",
    "#Write a program which prints “LETS UPGRADE”. (Please note that you have to\n",
    "#print in ALL CAPS as given)"
   ]
  },
  {
   "cell_type": "code",
   "execution_count": 33,
   "metadata": {},
   "outputs": [
    {
     "name": "stdout",
     "output_type": "stream",
     "text": [
      "Enter the value of x:letsupgrade\n",
      "x is LETSUPGRADE\n"
     ]
    }
   ],
   "source": [
    "x = input(\"Enter the value of x:\")\n",
    "print(\"x is\",x.upper())"
   ]
  },
  {
   "cell_type": "code",
   "execution_count": 34,
   "metadata": {},
   "outputs": [],
   "source": [
    "#Question 3\n",
    "#Write a program that takes cost price and selling price as input and displays whether the transaction is a\n",
    "#Profit or a Loss or Neither.\n",
    "#INPUT FORMAT\n",
    "#The first line contains the cost price.\n",
    "#The second line contains the selling price.\n",
    "#OUTPUT FORMAT\n",
    "#Print \"Profit\" if the transaction is a profit or \"Loss\" if it is a loss. If it is neither\n",
    "#profit nor loss, print \"Neither\". (You must not have quotes in your output)"
   ]
  },
  {
   "cell_type": "code",
   "execution_count": 52,
   "metadata": {},
   "outputs": [
    {
     "name": "stdout",
     "output_type": "stream",
     "text": [
      "50\n",
      "55\n",
      "PROFIT\n"
     ]
    }
   ],
   "source": [
    "cp = input()\n",
    "sp = input()\n",
    "if (cp > sp):\n",
    "    print(\"LOSS\")\n",
    "elif (cp < sp):\n",
    "    print(\"PROFIT\")\n",
    "else:\n",
    "    print(\"Neither\")"
   ]
  },
  {
   "cell_type": "code",
   "execution_count": null,
   "metadata": {},
   "outputs": [],
   "source": [
    "#Question  4\n",
    "#Write a program that takes an amount in Euros as input. You need to find its equivalent in\n",
    "#Rupees and display it. Assume 1 Euro equals Rs. 80.\n",
    "#Please note that you are expected to stick to the given input and output\n",
    "#format as in sample test cases. Please don't add any extra lines such as\n",
    "#'Enter a number', etc.\n",
    "#Your program should take only one number as input and display the output."
   ]
  },
  {
   "cell_type": "code",
   "execution_count": 64,
   "metadata": {},
   "outputs": [
    {
     "name": "stdout",
     "output_type": "stream",
     "text": [
      "50\n",
      "4000\n"
     ]
    }
   ],
   "source": [
    "x = int(input())\n",
    "y = x*80\n",
    "print(y)"
   ]
  },
  {
   "cell_type": "code",
   "execution_count": null,
   "metadata": {},
   "outputs": [],
   "source": []
  }
 ],
 "metadata": {
  "kernelspec": {
   "display_name": "Python 3",
   "language": "python",
   "name": "python3"
  },
  "language_info": {
   "codemirror_mode": {
    "name": "ipython",
    "version": 3
   },
   "file_extension": ".py",
   "mimetype": "text/x-python",
   "name": "python",
   "nbconvert_exporter": "python",
   "pygments_lexer": "ipython3",
   "version": "3.8.3"
  }
 },
 "nbformat": 4,
 "nbformat_minor": 4
}
